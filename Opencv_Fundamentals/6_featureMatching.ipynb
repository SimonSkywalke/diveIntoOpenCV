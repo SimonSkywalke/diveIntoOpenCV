{
 "cells": [
  {
   "cell_type": "markdown",
   "metadata": {},
   "source": [
    "### 特征匹配"
   ]
  },
  {
   "metadata": {},
   "cell_type": "markdown",
   "source": [
    "# BFMatcher 解释\n",
    "\n",
    "`cv2.BFMatcher` 是 OpenCV 库中的一个类，用于暴力匹配（Brute Force Matching）特征描述子。暴力匹配是一种直接比较描述子的匹配方法，通过计算描述子之间的距离来找到最佳匹配对。\n",
    "\n",
    "## 参数解释\n",
    "\n",
    "### `crossCheck`\n",
    "\n",
    "- `crossCheck=True`：启用交叉检查。在这种模式下，匹配对必须满足两个条件：\n",
    "  1. 描述子 A 的最佳匹配是描述子 B。\n",
    "  2. 描述子 B 的最佳匹配是描述子 A。\n",
    "\n",
    "  这种模式可以减少错误匹配，但可能会丢失一些正确的匹配对。"
   ]
  },
  {
   "metadata": {
    "collapsed": true,
    "ExecuteTime": {
     "end_time": "2025-02-15T07:32:47.427434Z",
     "start_time": "2025-02-15T07:32:47.009813Z"
    }
   },
   "cell_type": "code",
   "outputs": [],
   "execution_count": 2,
   "source": [
    "import cv2\n",
    "import numpy as np\n",
    "import matplotlib.pyplot as plt\n",
    "%matplotlib inline"
   ]
  },
  {
   "metadata": {
    "collapsed": true,
    "ExecuteTime": {
     "end_time": "2025-02-15T07:32:51.738495Z",
     "start_time": "2025-02-15T07:32:51.720515Z"
    }
   },
   "cell_type": "code",
   "outputs": [],
   "execution_count": 4,
   "source": [
    "img1 = cv2.imread('photoOpencv/box.png', 0)\n",
    "img2 = cv2.imread('photoOpencv/box_in_scene.png', 0)"
   ]
  },
  {
   "metadata": {
    "ExecuteTime": {
     "end_time": "2025-02-15T07:32:53.190155Z",
     "start_time": "2025-02-15T07:32:53.177158Z"
    }
   },
   "cell_type": "code",
   "outputs": [],
   "execution_count": 5,
   "source": [
    "def cv_show(name,img):\n",
    "    cv2.imshow(name, img)\n",
    "    cv2.waitKey(0)\n",
    "    cv2.destroyAllWindows()"
   ]
  },
  {
   "metadata": {
    "collapsed": true,
    "ExecuteTime": {
     "end_time": "2025-02-15T07:32:57.393774Z",
     "start_time": "2025-02-15T07:32:54.197010Z"
    }
   },
   "cell_type": "code",
   "outputs": [],
   "execution_count": 6,
   "source": "cv_show('img1',img1)"
  },
  {
   "metadata": {
    "collapsed": true,
    "ExecuteTime": {
     "end_time": "2025-02-15T07:32:59.921506Z",
     "start_time": "2025-02-15T07:32:58.226609Z"
    }
   },
   "cell_type": "code",
   "outputs": [],
   "execution_count": 7,
   "source": "cv_show('img2',img2)"
  },
  {
   "metadata": {
    "collapsed": true,
    "ExecuteTime": {
     "end_time": "2025-02-15T07:33:05.012374Z",
     "start_time": "2025-02-15T07:33:05.002363Z"
    }
   },
   "cell_type": "code",
   "outputs": [],
   "execution_count": 8,
   "source": "sift = cv2.xfeatures2d.SIFT_create()"
  },
  {
   "metadata": {
    "ExecuteTime": {
     "end_time": "2025-02-15T07:33:07.410039Z",
     "start_time": "2025-02-15T07:33:07.358076Z"
    }
   },
   "cell_type": "code",
   "outputs": [],
   "execution_count": 9,
   "source": [
    "kp1, des1 = sift.detectAndCompute(img1, None)\n",
    "kp2, des2 = sift.detectAndCompute(img2, None)"
   ]
  },
  {
   "cell_type": "code",
   "metadata": {
    "collapsed": true,
    "ExecuteTime": {
     "end_time": "2025-02-15T07:34:35.890078Z",
     "start_time": "2025-02-15T07:34:35.876062Z"
    }
   },
   "source": "bf = cv2.BFMatcher(crossCheck=True)",
   "outputs": [],
   "execution_count": 10
  },
  {
   "cell_type": "markdown",
   "metadata": {},
   "source": [
    "#### 1对1的匹配\n",
    "# bf.match 方法解析\n",
    "\n",
    "`bf.match` 方法是 OpenCV 库中 `cv2.BFMatcher` 类提供的一个函数，用于对两个集合的特征描述子进行暴力匹配（Brute Force Matching）。该方法通过计算描述子之间的距离来找到最佳匹配对。\n",
    "\n",
    "## 方法签名\n",
    "\n",
    "```python\n",
    "matches = bf.match(queryDescriptors, trainDescriptors)\n",
    "```\n",
    "\n",
    "## 参数解释\n",
    "\n",
    "- `queryDescriptors`：第一幅图像的特征描述子，通常是一个 NumPy 数组，每一行对应一个关键点的描述子。\n",
    "- `trainDescriptors`：第二幅图像的特征描述子，也是一个 NumPy 数组，每一行对应一个关键点的描述子。\n",
    "\n",
    "## 返回值\n",
    "\n",
    "- `matches`：一个包含 DMatch 对象的列表，每个 DMatch 对象包含以下信息：\n",
    "  - `distance`：描述子之间的距离，距离越小表示匹配越好。\n",
    "  - `queryIdx`：查询描述子（第一幅图像中的描述子）的索引。\n",
    "  - `trainIdx`：训练描述子（第二幅图像中的描述子）的索引。\n",
    "  - `imgIdx`：训练图像的索引（在多图像匹配时使用）。\n",
    "\n",
    "## 匹配过程\n",
    "\n",
    "`bf.match` 方法的匹配过程如下：\n",
    "\n",
    "1. **计算距离**：对于每个查询描述子，计算其与所有训练描述子之间的距离。\n",
    "2. **找到最佳匹配**：选择距离最小的训练描述子作为最佳匹配对。\n",
    "3. **返回匹配结果**：将所有匹配对作为 `DMatch` 对象存储在列表中并返回。"
   ]
  },
  {
   "cell_type": "code",
   "metadata": {
    "collapsed": true,
    "ExecuteTime": {
     "end_time": "2025-02-15T07:34:58.259833Z",
     "start_time": "2025-02-15T07:34:58.240835Z"
    }
   },
   "source": [
    "matches = bf.match(des1, des2)\n",
    "matches = sorted(matches, key=lambda x: x.distance)"
   ],
   "outputs": [],
   "execution_count": 11
  },
  {
   "cell_type": "code",
   "metadata": {
    "collapsed": true,
    "ExecuteTime": {
     "end_time": "2025-02-15T07:34:59.316223Z",
     "start_time": "2025-02-15T07:34:59.304226Z"
    }
   },
   "source": [
    "img3 = cv2.drawMatches(img1, kp1, img2, kp2, matches[:10], None,flags=2)"
   ],
   "outputs": [],
   "execution_count": 12
  },
  {
   "cell_type": "code",
   "metadata": {
    "collapsed": true,
    "ExecuteTime": {
     "end_time": "2025-02-15T07:35:04.235542Z",
     "start_time": "2025-02-15T07:35:00.109841Z"
    }
   },
   "source": [
    "cv_show('img3',img3)"
   ],
   "outputs": [],
   "execution_count": 13
  },
  {
   "cell_type": "markdown",
   "metadata": {},
   "source": [
    "# bf.knnMatch 方法解析\n",
    "\n",
    "`bf.knnMatch` 方法是 OpenCV 库中 `cv2.BFMatcher` 类提供的一个函数，用于对两个集合的特征描述子进行 K 最近邻匹配（K-Nearest Neighbors Matching）。该方法通过计算描述子之间的距离来找到 K 个最佳匹配对。\n",
    "\n",
    "## 匹配过程\n",
    "\n",
    "`bf.knnMatch` 方法的匹配过程如下：\n",
    "\n",
    "1. **计算距离**：对于每个查询描述子，计算其与所有训练描述子之间的距离。\n",
    "2. **找到 K 个最佳匹配**：选择距离最小的 K 个训练描述子作为最佳匹配对。\n",
    "3. **返回匹配结果**：将所有匹配对作为 `DMatch` 对象存储在列表中并返回。\n",
    "## 参数解释\n",
    "\n",
    "- `queryDescriptors`：第一幅图像的特征描述子，通常是一个 NumPy 数组，每一行对应一个关键点的描述子。\n",
    "- `trainDescriptors`：第二幅图像的特征描述子，也是一个 NumPy 数组，每一行对应一个关键点的描述子。\n",
    "- `k`：每个查询描述子寻找的最佳匹配个数。\n",
    "\n",
    "## 返回值\n",
    "\n",
    "- `matches`：一个包含 DMatch 对象列表的列表，每个子列表包含 K 个 DMatch 对象。每个 DMatch 对象包含以下信息：\n",
    "  - `distance`：描述子之间的距离，距离越小表示匹配越好。\n",
    "  - `queryIdx`：查询描述子（第一幅图像中的描述子）的索引。\n",
    "  - `trainIdx`：训练描述子（第二幅图像中的描述子）的索引。\n",
    "  - `imgIdx`：训练图像的索引（在多图像匹配时使用）。\n",
    "\n",
    "\n",
    "## Ratio Test\n",
    "\n",
    "由于 KNN 匹配会返回多个匹配结果，因此通常会应用比例测试（Ratio Test）来筛选出好的匹配对。比例测试的步骤如下：\n",
    "\n",
    "1. 对于每个查询描述子，保留其与训练描述子的最近邻和次近邻匹配。\n",
    "2. 计算最近邻和次近邻匹配的距离比值。\n",
    "3. 如果比值小于设定的阈值（例如 0.75），则保留这个匹配对，否则丢弃。"
   ]
  },
  {
   "cell_type": "code",
   "metadata": {
    "collapsed": true,
    "ExecuteTime": {
     "end_time": "2025-02-15T07:37:15.820835Z",
     "start_time": "2025-02-15T07:37:15.801758Z"
    }
   },
   "source": [
    "bf = cv2.BFMatcher()\n",
    "matches = bf.knnMatch(des1, des2, k=2)"
   ],
   "outputs": [],
   "execution_count": 14
  },
  {
   "cell_type": "code",
   "metadata": {
    "ExecuteTime": {
     "end_time": "2025-02-15T07:37:16.883975Z",
     "start_time": "2025-02-15T07:37:16.873991Z"
    }
   },
   "source": [
    "good = []\n",
    "for m, n in matches:\n",
    "    if m.distance < 0.75 * n.distance:\n",
    "        good.append([m])"
   ],
   "outputs": [],
   "execution_count": 15
  },
  {
   "cell_type": "code",
   "metadata": {
    "collapsed": true,
    "ExecuteTime": {
     "end_time": "2025-02-15T07:37:18.082260Z",
     "start_time": "2025-02-15T07:37:18.065233Z"
    }
   },
   "source": [
    "img3 = cv2.drawMatchesKnn(img1,kp1,img2,kp2,good,None,flags=2)"
   ],
   "outputs": [],
   "execution_count": 16
  },
  {
   "cell_type": "code",
   "metadata": {
    "collapsed": true,
    "ExecuteTime": {
     "end_time": "2025-02-15T07:37:21.470694Z",
     "start_time": "2025-02-15T07:37:19.516164Z"
    }
   },
   "source": [
    "cv_show('img3',img3)"
   ],
   "outputs": [],
   "execution_count": 17
  }
 ],
 "metadata": {
  "kernelspec": {
   "display_name": "Python 3",
   "language": "python",
   "name": "python3"
  },
  "language_info": {
   "codemirror_mode": {
    "name": "ipython",
    "version": 3
   },
   "file_extension": ".py",
   "mimetype": "text/x-python",
   "name": "python",
   "nbconvert_exporter": "python",
   "pygments_lexer": "ipython3",
   "version": "3.6.3"
  }
 },
 "nbformat": 4,
 "nbformat_minor": 2
}
